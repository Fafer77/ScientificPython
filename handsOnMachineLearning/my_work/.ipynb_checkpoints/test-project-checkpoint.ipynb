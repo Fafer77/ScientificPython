{
 "cells": [
  {
   "cell_type": "code",
   "execution_count": 2,
   "id": "2409369d-39cf-4a17-977a-963793ce911a",
   "metadata": {},
   "outputs": [],
   "source": [
    "import sklearn\n",
    "from pathlib import Path\n",
    "import pandas as pd\n",
    "import numpy as np\n",
    "import matplotlib.pyplot as plt\n",
    "import tarfile\n",
    "import urllib.request"
   ]
  },
  {
   "cell_type": "code",
   "execution_count": 3,
   "id": "e38627ef-2af3-4eaf-b9ab-c2b01ac96272",
   "metadata": {},
   "outputs": [
    {
     "name": "stderr",
     "output_type": "stream",
     "text": [
      "C:\\Users\\G4M3R\\AppData\\Local\\Temp\\ipykernel_19404\\2103725832.py:8: DeprecationWarning: Python 3.14 will, by default, filter extracted tar archives and reject files or modify their metadata. Use the filter argument to control this behavior.\n",
      "  housing_tarball.extractall(path='datasets')\n"
     ]
    }
   ],
   "source": [
    "def get_housing_data():\n",
    "    tarball_path = Path('datasets/housing.tgz')\n",
    "    if not tarball_path.is_file():\n",
    "        Path('datasets').mkdir(parents=True, exist_ok=True)\n",
    "        url = \"https://github.com/ageron/data/raw/main/housing.tgz\"\n",
    "        urllib.request.urlretrieve(url, tarball_path)\n",
    "        with tarfile.open(tarball_path) as housing_tarball:\n",
    "            housing_tarball.extractall(path='datasets', filter=None)\n",
    "    return pd.read_csv(Path('datasets/housing/housing.csv'))\n",
    "\n",
    "housing = get_housing_data()"
   ]
  },
  {
   "cell_type": "code",
   "execution_count": null,
   "id": "b19d1c36-5625-4352-8faa-e559f74782c6",
   "metadata": {},
   "outputs": [],
   "source": []
  }
 ],
 "metadata": {
  "kernelspec": {
   "display_name": "Python 3 (ipykernel)",
   "language": "python",
   "name": "python3"
  },
  "language_info": {
   "codemirror_mode": {
    "name": "ipython",
    "version": 3
   },
   "file_extension": ".py",
   "mimetype": "text/x-python",
   "name": "python",
   "nbconvert_exporter": "python",
   "pygments_lexer": "ipython3",
   "version": "3.12.6"
  }
 },
 "nbformat": 4,
 "nbformat_minor": 5
}
