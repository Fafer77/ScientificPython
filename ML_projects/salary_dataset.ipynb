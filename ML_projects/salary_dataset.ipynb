{
 "cells": [
  {
   "cell_type": "code",
   "execution_count": 3,
   "id": "e17d75a4-de2a-4c18-9d9c-89883c1f1a9c",
   "metadata": {},
   "outputs": [],
   "source": [
    "import numpy as np\n",
    "import pandas as pd\n",
    "import matplotlib.pyplot as plt"
   ]
  },
  {
   "cell_type": "code",
   "execution_count": 15,
   "id": "a30a9017-2d21-4235-a00f-6f6413b3054d",
   "metadata": {},
   "outputs": [],
   "source": [
    "data = pd.read_csv(r\"C:\\Users\\G4M3R\\.cache\\kagglehub\\datasets\\nikhil7280\\student-performance-multiple-linear-regression\\versions\\1\\Student_Performance.csv\")"
   ]
  },
  {
   "cell_type": "code",
   "execution_count": 25,
   "id": "1bf1d22a-24ce-479f-8a82-49a0d3df42dc",
   "metadata": {},
   "outputs": [],
   "source": [
    "X = data.drop('Performance Index', axis=1)\n",
    "y = data['Performance Index']"
   ]
  },
  {
   "cell_type": "code",
   "execution_count": 29,
   "id": "2af401f3-d39d-464d-a8a5-14df59c8d8b4",
   "metadata": {},
   "outputs": [],
   "source": [
    "from sklearn.model_selection import train_test_split\n",
    "\n",
    "X_train, X_test, y_train, y_test = train_test_split(X, y, test_size=0.2, random_state=42)"
   ]
  },
  {
   "cell_type": "markdown",
   "id": "36a7234a-d240-4b88-a229-f8f5c273aaad",
   "metadata": {},
   "source": [
    "# Rozwiązanie korzystając z gotowych implementacji scikit"
   ]
  },
  {
   "cell_type": "markdown",
   "id": "10d62d7c-3072-48dd-85bc-66a1ff93f363",
   "metadata": {},
   "source": [
    "## zwykla regresja liniowa"
   ]
  },
  {
   "cell_type": "code",
   "execution_count": 33,
   "id": "1ad56b02-4239-4abf-a128-33390148fd0f",
   "metadata": {},
   "outputs": [],
   "source": [
    "from sklearn.preprocessing import LabelEncoder\n",
    "\n",
    "encoder = LabelEncoder()\n",
    "X_train['Extracurricular Activities'] = encoder.fit_transform(X_train['Extracurricular Activities'])\n",
    "X_test['Extracurricular Activities'] = encoder.transform(X_test['Extracurricular Activities'])"
   ]
  },
  {
   "cell_type": "code",
   "execution_count": 34,
   "id": "706c79ee-a702-4b3c-a2cc-ba98877cfbfd",
   "metadata": {},
   "outputs": [],
   "source": [
    "from sklearn.linear_model import LinearRegression\n",
    "\n",
    "model = LinearRegression()\n",
    "model.fit(X_train, y_train)\n",
    "\n",
    "predictions = model.predict(X_test)"
   ]
  },
  {
   "cell_type": "code",
   "execution_count": 43,
   "id": "fbd4da5e-37eb-4f11-87cf-4ae97473ea06",
   "metadata": {},
   "outputs": [
    {
     "name": "stdout",
     "output_type": "stream",
     "text": [
      "1.6111213463123044\n",
      "0.034999265825985046\n",
      "4.082628398521853\n"
     ]
    }
   ],
   "source": [
    "from sklearn.metrics import mean_absolute_error, mean_absolute_percentage_error, mean_squared_error\n",
    "\n",
    "mae = mean_absolute_error(y_test, predictions)\n",
    "maep = mean_absolute_percentage_error(y_test, predictions)\n",
    "mse = mean_squared_error(y_test, predictions)\n",
    "print(mae)\n",
    "print(maep)\n",
    "print(mse)"
   ]
  },
  {
   "cell_type": "code",
   "execution_count": 39,
   "id": "aaf477dc-1463-4014-a437-18937c16ee8d",
   "metadata": {},
   "outputs": [
    {
     "data": {
      "image/png": "[encoded data removed]",
      "text/plain": [
       "<Figure size 640x480 with 1 Axes>"
      ]
     },
     "metadata": {},
     "output_type": "display_data"
    }
   ],
   "source": [
    "plt.scatter(y_test, predictions, c='red')\n",
    "plt.xlabel('real values')\n",
    "plt.ylabel('predicted values')\n",
    "plt.title('real vs predicted values')\n",
    "plt.show()"
   ]
  },
  {
   "cell_type": "markdown",
   "id": "f5ace7e9-ebb3-440e-bdf7-658e7991b180",
   "metadata": {},
   "source": [
    "## Ridge regression"
   ]
  },
  {
   "cell_type": "code",
   "execution_count": 53,
   "id": "faca7f82-c43f-4d34-9909-f09319e7b9c5",
   "metadata": {},
   "outputs": [
    {
     "name": "stdout",
     "output_type": "stream",
     "text": [
      "best alpha value:  {'alpha': 12.199999999999996}\n",
      "best score:  0.9886614459593401\n"
     ]
    }
   ],
   "source": [
    "from sklearn.linear_model import Ridge\n",
    "from sklearn.model_selection import GridSearchCV\n",
    "\n",
    "param_grid = {'alpha': np.arange(11.0, 18.0, 0.1)}\n",
    "\n",
    "ridge = Ridge()\n",
    "grid_search = GridSearchCV(ridge, param_grid, cv=5, scoring='r2')\n",
    "grid_search.fit(X_train, y_train)\n",
    "\n",
    "print('best alpha value: ', grid_search.best_params_)\n",
    "print('best score: ', grid_search.best_score_)"
   ]
  },
  {
   "cell_type": "code",
   "execution_count": 56,
   "id": "1f2b2d3a-9cb0-4611-8787-eb1a6c2b38d6",
   "metadata": {},
   "outputs": [],
   "source": [
    "best_ridge = grid_search.best_estimator_"
   ]
  },
  {
   "cell_type": "code",
   "execution_count": 57,
   "id": "d370d8e9-c738-404a-a31a-747669210abc",
   "metadata": {},
   "outputs": [
    {
     "name": "stdout",
     "output_type": "stream",
     "text": [
      "1.6111121072866372\n",
      "0.035000680362147096\n",
      "4.0827534451316945\n"
     ]
    }
   ],
   "source": [
    "predictions_ridge = best_ridge.predict(X_test)\n",
    "mae = mean_absolute_error(y_test, predictions_ridge)\n",
    "maep = mean_absolute_percentage_error(y_test, predictions_ridge)\n",
    "mse = mean_squared_error(y_test, predictions_ridge)\n",
    "print(mae)\n",
    "print(maep)\n",
    "print(mse)"
   ]
  },
  {
   "cell_type": "markdown",
   "id": "d58c076b-d953-4703-9207-566dd8332ce9",
   "metadata": {},
   "source": [
    "## feature engineering"
   ]
  },
  {
   "cell_type": "code",
   "execution_count": 58,
   "id": "a219a5ef-54db-4b3c-a1ce-69ab2a41365d",
   "metadata": {},
   "outputs": [
    {
     "data": {
      "text/html": [
       "<div>\n",
       "<style scoped>\n",
       "    .dataframe tbody tr th:only-of-type {\n",
       "        vertical-align: middle;\n",
       "    }\n",
       "\n",
       "    .dataframe tbody tr th {\n",
       "        vertical-align: top;\n",
       "    }\n",
       "\n",
       "    .dataframe thead th {\n",
       "        text-align: right;\n",
       "    }\n",
       "</style>\n",
       "<table border=\"1\" class=\"dataframe\">\n",
       "  <thead>\n",
       "    <tr style=\"text-align: right;\">\n",
       "      <th></th>\n",
       "      <th>Hours Studied</th>\n",
       "      <th>Previous Scores</th>\n",
       "      <th>Extracurricular Activities</th>\n",
       "      <th>Sleep Hours</th>\n",
       "      <th>Sample Question Papers Practiced</th>\n",
       "    </tr>\n",
       "  </thead>\n",
       "  <tbody>\n",
       "    <tr>\n",
       "      <th>9254</th>\n",
       "      <td>5</td>\n",
       "      <td>49</td>\n",
       "      <td>0</td>\n",
       "      <td>7</td>\n",
       "      <td>5</td>\n",
       "    </tr>\n",
       "    <tr>\n",
       "      <th>1561</th>\n",
       "      <td>2</td>\n",
       "      <td>48</td>\n",
       "      <td>1</td>\n",
       "      <td>7</td>\n",
       "      <td>6</td>\n",
       "    </tr>\n",
       "    <tr>\n",
       "      <th>1670</th>\n",
       "      <td>2</td>\n",
       "      <td>81</td>\n",
       "      <td>0</td>\n",
       "      <td>7</td>\n",
       "      <td>2</td>\n",
       "    </tr>\n",
       "    <tr>\n",
       "      <th>6087</th>\n",
       "      <td>2</td>\n",
       "      <td>46</td>\n",
       "      <td>0</td>\n",
       "      <td>6</td>\n",
       "      <td>1</td>\n",
       "    </tr>\n",
       "    <tr>\n",
       "      <th>6669</th>\n",
       "      <td>8</td>\n",
       "      <td>47</td>\n",
       "      <td>0</td>\n",
       "      <td>9</td>\n",
       "      <td>0</td>\n",
       "    </tr>\n",
       "  </tbody>\n",
       "</table>\n",
       "</div>"
      ],
      "text/plain": [
       "      Hours Studied  Previous Scores  Extracurricular Activities  Sleep Hours  \\\n",
       "9254              5               49                           0            7   \n",
       "1561              2               48                           1            7   \n",
       "1670              2               81                           0            7   \n",
       "6087              2               46                           0            6   \n",
       "6669              8               47                           0            9   \n",
       "\n",
       "      Sample Question Papers Practiced  \n",
       "9254                                 5  \n",
       "1561                                 6  \n",
       "1670                                 2  \n",
       "6087                                 1  \n",
       "6669                                 0  "
      ]
     },
     "execution_count": 58,
     "metadata": {},
     "output_type": "execute_result"
    }
   ],
   "source": [
    "X_train.head()"
   ]
  },
  {
   "cell_type": "code",
   "execution_count": 63,
   "id": "93bdb4f2-524f-43ee-b1be-262f19764275",
   "metadata": {},
   "outputs": [],
   "source": [
    "X_train['StudyHours_Grades'] = X_train['Hours Studied'] * X_train['Previous Scores']\n",
    "X_test['StudyHours_Grades'] = X_test['Hours Studied'] * X_test['Previous Scores']"
   ]
  },
  {
   "cell_type": "code",
   "execution_count": 65,
   "id": "b77d95b4-2770-4cd3-99b4-a7d342fe56c6",
   "metadata": {},
   "outputs": [],
   "source": [
    "lin_regr = LinearRegression()\n",
    "lin_regr.fit(X_train, y_train)\n",
    "\n",
    "prediction_eng = lin_regr.predict(X_test)"
   ]
  },
  {
   "cell_type": "code",
   "execution_count": 66,
   "id": "c826646c-38ee-4f85-99f4-b5dbdcb2a42c",
   "metadata": {},
   "outputs": [
    {
     "name": "stdout",
     "output_type": "stream",
     "text": [
      "1.6111776189098421\n",
      "0.035002505505868114\n",
      "4.0828384239366615\n"
     ]
    }
   ],
   "source": [
    "mae = mean_absolute_error(y_test, prediction_eng)\n",
    "maep = mean_absolute_percentage_error(y_test, prediction_eng)\n",
    "mse = mean_squared_error(y_test, prediction_eng)\n",
    "print(mae)\n",
    "print(maep)\n",
    "print(mse)"
   ]
  },
  {
   "cell_type": "code",
   "execution_count": null,
   "id": "eca58cd2-3628-43f6-892b-50de9e9a9882",
   "metadata": {},
   "outputs": [],
   "source": []
  }
 ],
 "metadata": {
  "kernelspec": {
   "display_name": "Python 3 (ipykernel)",
   "language": "python",
   "name": "python3"
  },
  "language_info": {
   "codemirror_mode": {
    "name": "ipython",
    "version": 3
   },
   "file_extension": ".py",
   "mimetype": "text/x-python",
   "name": "python",
   "nbconvert_exporter": "python",
   "pygments_lexer": "ipython3",
   "version": "3.12.6"
  }
 },
 "nbformat": 4,
 "nbformat_minor": 5
}
