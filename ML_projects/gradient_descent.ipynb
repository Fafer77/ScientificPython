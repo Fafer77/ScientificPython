{
 "cells": [
  {
   "cell_type": "code",
   "execution_count": 1,
   "id": "c2fc7bc4-255c-4098-a95e-1ae01419225b",
   "metadata": {},
   "outputs": [],
   "source": [
    "import numpy as np\n",
    "import matplotlib.pyplot as plt"
   ]
  },
  {
   "cell_type": "code",
   "execution_count": 2,
   "id": "b0558b52-b3af-4ae0-b3f2-2de4ed275cf5",
   "metadata": {},
   "outputs": [],
   "source": [
    "def y_function(x):\n",
    "    return x**2\n",
    "\n",
    "def y_derivative(x):\n",
    "    return 2 * x"
   ]
  },
  {
   "cell_type": "code",
   "execution_count": 3,
   "id": "628b2238-0240-48b9-bf35-76e511840c16",
   "metadata": {},
   "outputs": [],
   "source": [
    "%matplotlib qt"
   ]
  },
  {
   "cell_type": "code",
   "execution_count": null,
   "id": "38772fab-4eb7-4d57-afbb-9c5b6b4c253b",
   "metadata": {},
   "outputs": [],
   "source": [
    "x = np.arange(-100, 100, 0.1)\n",
    "y = y_function(x)\n",
    "\n",
    "current_pos = (77, y_function(77))\n",
    "\n",
    "learning_rate = 0.01\n",
    "\n",
    "for _ in range(1000):\n",
    "    new_x = current_pos[0] - learning_rate * y_derivative(current_pos[0])\n",
    "    new_y = y_function(new_x)\n",
    "    current_pos = (new_x, new_y)\n",
    "\n",
    "    plt.plot(x,y)\n",
    "    plt.scatter(current_pos[0], current_pos[1], color='red')\n",
    "    plt.show()\n",
    "    plt.pause(0.001)\n",
    "    plt.clf()"
   ]
  },
  {
   "cell_type": "code",
   "execution_count": null,
   "id": "9eb8c428-6cae-40f5-84fd-769b7fa03a3b",
   "metadata": {},
   "outputs": [],
   "source": []
  }
 ],
 "metadata": {
  "kernelspec": {
   "display_name": "Python 3 (ipykernel)",
   "language": "python",
   "name": "python3"
  },
  "language_info": {
   "codemirror_mode": {
    "name": "ipython",
    "version": 3
   },
   "file_extension": ".py",
   "mimetype": "text/x-python",
   "name": "python",
   "nbconvert_exporter": "python",
   "pygments_lexer": "ipython3",
   "version": "3.12.6"
  }
 },
 "nbformat": 4,
 "nbformat_minor": 5
}
