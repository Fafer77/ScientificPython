{
 "cells": [
  {
   "cell_type": "markdown",
   "id": "a6caee34-2d98-4a43-9512-a6671f60e335",
   "metadata": {},
   "source": [
    "# Measures of dispersion\n",
    "\n",
    "Dispersion measures how spread out a set of data is. This is especially important in finance because one of the main ways risk is measured is in how spread out returns have been historically. If returns have been very tight around a central value, then we have less reason to worry. If returns have been all over the place, that is risky.\n",
    "\n",
    "Data with low dispersion is heavily clustered around the mean, while data with high dispersion indicates many very large and very small values.\n",
    "\n",
    "Let's generate an array of random integers to work with.\n",
    "\n"
   ]
  },
  {
   "cell_type": "markdown",
   "id": "754ad5be-ac3d-4c49-8642-37bf1d97abe9",
   "metadata": {},
   "source": [
    "# NOTES\n",
    "Notion of range - difference between max and min value, rarely uses as it is very sensitive to extreme values.\n",
    "With less dispersion, less volatility mean\n",
    "Risk adjusted return - calculate ratio between mean return and SDA to come up with the notion of the unit of return per unit of volatility\n",
    "Risk premium"
   ]
  },
  {
   "cell_type": "code",
   "execution_count": 1,
   "id": "49369dc6-59a0-4db0-99e7-7acee488b346",
   "metadata": {},
   "outputs": [],
   "source": [
    "import numpy as np\n",
    "\n",
    "np.random.seed(121)"
   ]
  },
  {
   "cell_type": "code",
   "execution_count": 2,
   "id": "36360826-0589-4e44-9749-7576e4f4a380",
   "metadata": {},
   "outputs": [
    {
     "name": "stdout",
     "output_type": "stream",
     "text": [
      "X: [ 3  8 34 39 46 52 52 52 54 57 60 65 66 75 83 85 88 94 95 96]\n",
      "Mean of X: 60.2\n"
     ]
    }
   ],
   "source": [
    "X = np.random.randint(100, size=20)\n",
    "\n",
    "X = np.sort(X)\n",
    "print('X: %s' %(X))\n",
    "\n",
    "mu = np.mean(X)\n",
    "print('Mean of X:', mu)"
   ]
  },
  {
   "cell_type": "code",
   "execution_count": 3,
   "id": "4a1833a3-2e7c-493e-ae1c-79fdc5b01485",
   "metadata": {},
   "outputs": [
    {
     "data": {
      "text/plain": [
       "93"
      ]
     },
     "execution_count": 3,
     "metadata": {},
     "output_type": "execute_result"
    }
   ],
   "source": [
    "np.ptp(X)"
   ]
  },
  {
   "cell_type": "code",
   "execution_count": null,
   "id": "2fda90b8-13df-4781-8139-8b6ae6a79c5a",
   "metadata": {},
   "outputs": [],
   "source": []
  }
 ],
 "metadata": {
  "kernelspec": {
   "display_name": "Python 3 (ipykernel)",
   "language": "python",
   "name": "python3"
  },
  "language_info": {
   "codemirror_mode": {
    "name": "ipython",
    "version": 3
   },
   "file_extension": ".py",
   "mimetype": "text/x-python",
   "name": "python",
   "nbconvert_exporter": "python",
   "pygments_lexer": "ipython3",
   "version": "3.12.1"
  }
 },
 "nbformat": 4,
 "nbformat_minor": 5
}
