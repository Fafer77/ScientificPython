{
 "cells": [
  {
   "cell_type": "markdown",
   "id": "4138ceee-9419-4383-8c69-864fb48599f8",
   "metadata": {},
   "source": [
    "# Arithmetic mean\n",
    "\n",
    "The arithmetic mean is used very frequently to summarize numerical data, and is usually the one assumed to be meant by the word \"average.\" It is defined as the sum of the observations divided by the number of observations:\n",
    "$$\\mu = \\frac{\\sum_{i=1}^N X_i}{N}$$\n",
    "\n",
    "where $X_1, X_2, \\ldots , X_N$ are our observations.\n",
    "\n",
    "We can also define a <i>weighted</i> arithmetic mean, which is useful for explicitly specifying the number of times each observation should be counted. For instance, in computing the average value of a portfolio, it is more convenient to say that 70% of your stocks are of type X rather than making a list of every share you hold.\n",
    "\n",
    "The weighted arithmetic mean is defined as\n",
    "$$\\sum_{i=1}^n w_i X_i $$\n",
    "\n",
    "where $\\sum_{i=1}^n w_i = 1$. In the usual arithmetic mean, we have $w_i = 1/n$ for all $i$.\n",
    "\n",
    "# Median\n",
    "\n",
    "The median of a set of data is the number which appears in the middle of the list when it is sorted in increasing or decreasing order. When we have an odd number $n$ of data points, this is simply the value in position $(n+1)/2$. When we have an even number of data points, the list splits in half and there is no item in the middle; so we define the median as the average of the values in positions $n/2$ and $(n+2)/2$.\n",
    "\n",
    "The median is less affected by extreme values in the data than the arithmetic mean. It tells us the value that splits the data set in half, but not how much smaller or larger the other values are.\n",
    "\n",
    "# Mode\n",
    "\n",
    "The mode is the most frequently occuring value in a data set. It can be applied to non-numerical data, unlike the mean and the median. One situation in which it is useful is for data whose possible values are independent. For example, in the outcomes of a weighted die, coming up 6 often does not mean it is likely to come up 5; so knowing that the data set has a mode of 6 is more useful than knowing it has a mean of 4.5.\n",
    "\n",
    "# Geometric mean\n",
    "\n",
    "While the arithmetic mean averages using addition, the geometric mean uses multiplication:\n",
    "$$ G = \\sqrt[n]{X_1X_1\\ldots X_n} $$\n",
    "\n",
    "for observations $X_i \\geq 0$. We can also rewrite it as an arithmetic mean using logarithms:\n",
    "$$ \\ln G = \\frac{\\sum_{i=1}^n \\ln X_i}{n} $$\n",
    "\n",
    "The geometric mean is always less than or equal to the arithmetic mean (when working with nonnegative observations), with equality only when all of the observations are the same.\n",
    "\n",
    "# Harmonic mean\n",
    "\n",
    "The harmonic mean is less commonly used than the other types of means. It is defined as\n",
    "$$ H = \\frac{n}{\\sum_{i=1}^n \\frac{1}{X_i}} $$\n",
    "\n",
    "As with the geometric mean, we can rewrite the harmonic mean to look like an arithmetic mean. The reciprocal of the harmonic mean is the arithmetic mean of the reciprocals of the observations:\n",
    "$$ \\frac{1}{H} = \\frac{\\sum_{i=1}^n \\frac{1}{X_i}}{n} $$\n",
    "\n",
    "The harmonic mean for nonnegative numbers $X_i$ is always at most the geometric mean (which is at most the arithmetic mean), and they are equal only when all of the observations are equal."
   ]
  },
  {
   "cell_type": "markdown",
   "id": "54a8c66e-793c-4c4e-b68e-42b2aba1833f",
   "metadata": {},
   "source": [
    "# NOTES\n",
    "\n",
    "Numbers by themselves are very rarely helpful. Often comparing them is useful. The more lenses we have on data the better, but also don't compute things that don't tell me anything. Stock returns may have no value that occurs more than once, all are going to be little different mode would be useless. Mode tends to be more useful with integers or bucketed data and less with continuous data.\n",
    "Bucketed data - data that is split into some partitions like separated per months, per ranges 0-100, 101-200, 201-300 etc.\n"
   ]
  },
  {
   "cell_type": "code",
   "execution_count": 4,
   "id": "b085ac6e-8e62-4f6d-a543-b5ad2f11b657",
   "metadata": {},
   "outputs": [],
   "source": [
    "import numpy as np\n",
    "import scipy.stats as stats"
   ]
  },
  {
   "cell_type": "code",
   "execution_count": 7,
   "id": "5c0b5ee6-7256-43bd-92c0-0049423206f1",
   "metadata": {},
   "outputs": [
    {
     "name": "stdout",
     "output_type": "stream",
     "text": [
      "3.8333333333333335\n",
      "14.285714285714286\n"
     ]
    }
   ],
   "source": [
    "x1 = [1, 2, 5, 5, 3, 7]\n",
    "x2 = x1 + [77]\n",
    "\n",
    "print(np.mean(x1))\n",
    "print(np.mean(x2))"
   ]
  },
  {
   "cell_type": "code",
   "execution_count": 8,
   "id": "9c3f1209-998c-4f96-8b83-c82c2eede4e2",
   "metadata": {},
   "outputs": [
    {
     "name": "stdout",
     "output_type": "stream",
     "text": [
      "3.18809717043702 5.024549699338982\n"
     ]
    }
   ],
   "source": [
    "# geometric mean\n",
    "print(stats.gmean(x1), stats.gmean(x2))"
   ]
  },
  {
   "cell_type": "code",
   "execution_count": null,
   "id": "1235a7c2-c618-49ea-a9d8-d4a3fbc6e194",
   "metadata": {},
   "outputs": [],
   "source": []
  }
 ],
 "metadata": {
  "kernelspec": {
   "display_name": "Python 3 (ipykernel)",
   "language": "python",
   "name": "python3"
  },
  "language_info": {
   "codemirror_mode": {
    "name": "ipython",
    "version": 3
   },
   "file_extension": ".py",
   "mimetype": "text/x-python",
   "name": "python",
   "nbconvert_exporter": "python",
   "pygments_lexer": "ipython3",
   "version": "3.12.1"
  }
 },
 "nbformat": 4,
 "nbformat_minor": 5
}
