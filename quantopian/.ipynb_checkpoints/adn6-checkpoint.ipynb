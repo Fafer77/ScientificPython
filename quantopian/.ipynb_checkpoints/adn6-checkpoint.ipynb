{
 "cells": [
  {
   "cell_type": "markdown",
   "id": "4138ceee-9419-4383-8c69-864fb48599f8",
   "metadata": {},
   "source": [
    "# Arithmetic mean\n",
    "\n",
    "The arithmetic mean is used very frequently to summarize numerical data, and is usually the one assumed to be meant by the word \"average.\" It is defined as the sum of the observations divided by the number of observations:\n",
    "$$\\mu = \\frac{\\sum_{i=1}^N X_i}{N}$$\n",
    "\n",
    "where $X_1, X_2, \\ldots , X_N$ are our observations.\n",
    "\n",
    "We can also define a <i>weighted</i> arithmetic mean, which is useful for explicitly specifying the number of times each observation should be counted. For instance, in computing the average value of a portfolio, it is more convenient to say that 70% of your stocks are of type X rather than making a list of every share you hold.\n",
    "\n",
    "The weighted arithmetic mean is defined as\n",
    "$$\\sum_{i=1}^n w_i X_i $$\n",
    "\n",
    "where $\\sum_{i=1}^n w_i = 1$. In the usual arithmetic mean, we have $w_i = 1/n$ for all $i$.\n",
    "\n",
    "# Median\n",
    "\n",
    "The median of a set of data is the number which appears in the middle of the list when it is sorted in increasing or decreasing order. When we have an odd number $n$ of data points, this is simply the value in position $(n+1)/2$. When we have an even number of data points, the list splits in half and there is no item in the middle; so we define the median as the average of the values in positions $n/2$ and $(n+2)/2$.\n",
    "\n",
    "The median is less affected by extreme values in the data than the arithmetic mean. It tells us the value that splits the data set in half, but not how much smaller or larger the other values are.\n",
    "\n",
    "# Mode\n",
    "\n",
    "The mode is the most frequently occuring value in a data set. It can be applied to non-numerical data, unlike the mean and the median. One situation in which it is useful is for data whose possible values are independent. For example, in the outcomes of a weighted die, coming up 6 often does not mean it is likely to come up 5; so knowing that the data set has a mode of 6 is more useful than knowing it has a mean of 4.5."
   ]
  },
  {
   "cell_type": "markdown",
   "id": "54a8c66e-793c-4c4e-b68e-42b2aba1833f",
   "metadata": {},
   "source": [
    "# NOTES\n",
    "\n",
    "numbers by themselves are very rarely helpful. Often comparing them is useful."
   ]
  },
  {
   "cell_type": "code",
   "execution_count": 4,
   "id": "b085ac6e-8e62-4f6d-a543-b5ad2f11b657",
   "metadata": {},
   "outputs": [],
   "source": [
    "import numpy as np\n",
    "import scipy.stats as stats"
   ]
  },
  {
   "cell_type": "code",
   "execution_count": 7,
   "id": "5c0b5ee6-7256-43bd-92c0-0049423206f1",
   "metadata": {},
   "outputs": [
    {
     "name": "stdout",
     "output_type": "stream",
     "text": [
      "3.8333333333333335\n",
      "14.285714285714286\n"
     ]
    }
   ],
   "source": [
    "x1 = [1, 2, 5, 5, 3, 7]\n",
    "x2 = x1 + [77]\n",
    "\n",
    "print(np.mean(x1))\n",
    "print(np.mean(x2))"
   ]
  },
  {
   "cell_type": "code",
   "execution_count": null,
   "id": "9c3f1209-998c-4f96-8b83-c82c2eede4e2",
   "metadata": {},
   "outputs": [],
   "source": []
  }
 ],
 "metadata": {
  "kernelspec": {
   "display_name": "Python 3 (ipykernel)",
   "language": "python",
   "name": "python3"
  },
  "language_info": {
   "codemirror_mode": {
    "name": "ipython",
    "version": 3
   },
   "file_extension": ".py",
   "mimetype": "text/x-python",
   "name": "python",
   "nbconvert_exporter": "python",
   "pygments_lexer": "ipython3",
   "version": "3.12.1"
  }
 },
 "nbformat": 4,
 "nbformat_minor": 5
}
