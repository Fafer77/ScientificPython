{
 "cells": [
  {
   "cell_type": "code",
   "execution_count": 7,
   "id": "974e196b-7b85-4d60-a98c-ec4a712e5a71",
   "metadata": {},
   "outputs": [],
   "source": [
    "import numpy as np\n",
    "import yfinance as yf\n",
    "import matplotlib.pyplot as plt\n",
    "import pandas as pd\n",
    "import scipy.stats as stats"
   ]
  },
  {
   "cell_type": "code",
   "execution_count": 8,
   "id": "8ee6b621-cfe0-40d3-8b1d-decbc2b1ef4c",
   "metadata": {},
   "outputs": [
    {
     "name": "stderr",
     "output_type": "stream",
     "text": [
      "[*********************100%%**********************]  1 of 1 completed\n"
     ]
    }
   ],
   "source": [
    "nqData = yf.download('NQ=F', '2023-01-01', '2024-06-25');\n",
    "nqClose = nqData['Close']\n",
    "nqOpen = nqData['Open']\n",
    "nqHigh = nqData['High']\n",
    "nqLow = nqData['Low']"
   ]
  },
  {
   "cell_type": "code",
   "execution_count": 9,
   "id": "fdaffe43-21e8-49b2-b3d1-b3285cd30a5f",
   "metadata": {},
   "outputs": [
    {
     "name": "stdout",
     "output_type": "stream",
     "text": [
      "2222.8739602447295\n"
     ]
    }
   ],
   "source": [
    "#odchylenie standardowe dla zestawu danych ale nie dzienncyh zwrotow\n",
    "nq_std = np.std(nqClose)\n",
    "print(nq_std)"
   ]
  },
  {
   "cell_type": "code",
   "execution_count": 10,
   "id": "caa30528-95a0-4a95-ab0c-1df64515d471",
   "metadata": {},
   "outputs": [
    {
     "name": "stdout",
     "output_type": "stream",
     "text": [
      "1.0848122100815107\n"
     ]
    }
   ],
   "source": [
    "#sda dla daily returns\n",
    "nq_returns = nqClose.pct_change()\n",
    "print(np.std(nq_returns) * 100)"
   ]
  },
  {
   "cell_type": "code",
   "execution_count": 16,
   "id": "dca4eaf9-0221-41d4-8b48-e2ee609b587d",
   "metadata": {},
   "outputs": [
    {
     "name": "stdout",
     "output_type": "stream",
     "text": [
      "Number of times a 1.5 SDA downside move was followed by at least a 0.5% pullback: 20\n",
      "Number of times a 1.5 SDA downside move was NOT followed by at least a 0.5% pullback: 4\n",
      "Dates when pullback occurred: [('2023-01-06', 'yes'), ('2023-01-31', 'yes'), ('2023-02-09', 'yes'), ('2023-02-22', 'yes'), ('2023-02-27', 'no'), ('2023-03-10', 'yes'), ('2023-04-26', 'no'), ('2023-06-08', 'yes'), ('2023-07-21', 'yes'), ('2023-08-03', 'yes'), ('2023-08-25', 'yes'), ('2023-09-22', 'yes'), ('2023-10-04', 'yes'), ('2023-10-27', 'no'), ('2024-02-01', 'no'), ('2024-03-06', 'no'), ('2024-04-15', 'yes'), ('2024-04-16', 'yes'), ('2024-04-22', 'no'), ('2024-05-01', 'yes')]\n",
      "\n",
      "Dates when pullback did not occur: [('2023-02-06', 'yes'), ('2023-02-17', 'yes'), ('2023-10-26', 'yes'), ('2024-01-03', 'yes')]\n"
     ]
    }
   ],
   "source": [
    "nq_returns_std = np.std(nq_returns)\n",
    "threshold_1_5_sda = -1.5 * nq_returns_std\n",
    "\n",
    "pullback_count = 0\n",
    "no_pullback_count = 0\n",
    "pullback_dates = []\n",
    "no_pullback_dates = []\n",
    "\n",
    "for i in range(1, len(nq_returns)):\n",
    "    if nq_returns.iloc[i] <= threshold_1_5_sda:\n",
    "        close_price = nqClose.iloc[i]\n",
    "        \n",
    "        if i + 1 < len(nq_returns):\n",
    "            next_day_high = nqHigh.iloc[i + 1]\n",
    "            prev_day_low = nqLow.iloc[i]\n",
    "\n",
    "            low_broken = nqLow.iloc[i + 1] < prev_day_low\n",
    "            \n",
    "            if next_day_high >= close_price * 1.005:\n",
    "                pullback_count += 1\n",
    "                pullback_dates.append((nq_returns.index[i + 1].strftime('%Y-%m-%d'), 'yes' if low_broken else 'no'))\n",
    "            else:\n",
    "                no_pullback_count += 1\n",
    "                no_pullback_dates.append((nq_returns.index[i + 1].strftime('%Y-%m-%d'), 'yes' if low_broken else 'no'))\n",
    "\n",
    "print(f'Number of times a 1.5 SDA downside move was followed by at least a 0.5% pullback: {pullback_count}')\n",
    "print(f'Number of times a 1.5 SDA downside move was NOT followed by at least a 0.5% pullback: {no_pullback_count}')\n",
    "\n",
    "print('Dates when pullback occurred:', pullback_dates)\n",
    "print('\\nDates when pullback did not occur:', no_pullback_dates)"
   ]
  },
  {
   "cell_type": "code",
   "execution_count": 30,
   "id": "d272790f-cd6a-4106-b5cb-13dd8ed37609",
   "metadata": {},
   "outputs": [],
   "source": [
    "def pullback_follow(data):\n",
    "    dataClose = data['Close']\n",
    "    dataOpen = data['Open']\n",
    "    dataLow = data['Low']\n",
    "    dataHigh = data['High']\n",
    "    dataReturns = dataClose.pct_change()\n",
    "    \n",
    "    data_returns_std = np.std(dataReturns)\n",
    "    threshold_1_5_sda = -1.5 * data_returns_std\n",
    "    threshold_0_5_sda = 0.5 * data_returns_std\n",
    "\n",
    "    print(f'SDA for given data: {data_returns_std}')\n",
    "    \n",
    "    pullback_count = 0\n",
    "    no_pullback_count = 0\n",
    "    pullback_dates = []\n",
    "    no_pullback_dates = []\n",
    "    \n",
    "    for i in range(1, len(dataReturns)):\n",
    "        if dataReturns.iloc[i] <= threshold_1_5_sda:\n",
    "            close_price = dataClose.iloc[i]\n",
    "            \n",
    "            if i + 1 < len(dataReturns):\n",
    "                next_day_high = dataHigh.iloc[i + 1]\n",
    "                prev_day_low = dataLow.iloc[i]\n",
    "    \n",
    "                low_broken = dataLow.iloc[i + 1] < prev_day_low\n",
    "                \n",
    "                next_day_return = (next_day_high - close_price) / close_price\n",
    "                if next_day_return >= threshold_0_5_sda:\n",
    "                    pullback_count += 1\n",
    "                    pullback_dates.append((dataReturns.index[i + 1].strftime('%Y-%m-%d'), 'yes' if low_broken else 'no'))\n",
    "                else:\n",
    "                    no_pullback_count += 1\n",
    "                    no_pullback_dates.append((dataReturns.index[i + 1].strftime('%Y-%m-%d'), 'yes' if low_broken else 'no'))\n",
    "\n",
    "    print(f'Number of times a 1.5 SDA downside move was followed by at least a 0.5 SDA pullback: {pullback_count}')\n",
    "    print(f'Number of times a 1.5 SDA downside move was NOT followed by at least a 0.5 SDA pullback: {no_pullback_count}')\n",
    "\n",
    "    return pullback_dates, no_pullback_dates"
   ]
  },
  {
   "cell_type": "code",
   "execution_count": 31,
   "id": "b324747b-5a4c-4cb0-a39b-9ce3625e8b63",
   "metadata": {},
   "outputs": [
    {
     "name": "stderr",
     "output_type": "stream",
     "text": [
      "[*********************100%%**********************]  1 of 1 completed"
     ]
    },
    {
     "name": "stdout",
     "output_type": "stream",
     "text": [
      "SDA for given data: 0.008756766168412203\n",
      "Number of times a 1.5 SDA downside move was followed by at least a 0.5% pullback: 10\n",
      "Number of times a 1.5 SDA downside move was NOT followed by at least a 0.5% pullback: 4\n"
     ]
    },
    {
     "name": "stderr",
     "output_type": "stream",
     "text": [
      "\n"
     ]
    }
   ],
   "source": [
    "gold = yf.download('GC=F', '2023-09-01', '2024-06-26')\n",
    "pullback_follow(gold)"
   ]
  },
  {
   "cell_type": "code",
   "execution_count": null,
   "id": "772b0cd1-ed07-4f8c-acdb-5e297a4a29e2",
   "metadata": {},
   "outputs": [],
   "source": []
  }
 ],
 "metadata": {
  "kernelspec": {
   "display_name": "Python 3 (ipykernel)",
   "language": "python",
   "name": "python3"
  },
  "language_info": {
   "codemirror_mode": {
    "name": "ipython",
    "version": 3
   },
   "file_extension": ".py",
   "mimetype": "text/x-python",
   "name": "python",
   "nbconvert_exporter": "python",
   "pygments_lexer": "ipython3",
   "version": "3.12.1"
  }
 },
 "nbformat": 4,
 "nbformat_minor": 5
}
